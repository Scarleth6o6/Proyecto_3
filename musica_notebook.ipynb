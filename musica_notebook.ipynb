{
 "cells": [
  {
   "cell_type": "markdown",
   "metadata": {
    "id": "E0vqbgi9ay0H"
   },
   "source": [
    "# Déjame escuchar la música"
   ]
  },
  {
   "cell_type": "markdown",
   "metadata": {
    "id": "fhq_eyov_Zcs"
   },
   "source": [
    "# Contenido <a id='back'></a>\n",
    "\n",
    "* [Introducción](#intro)\n",
    "* [Etapa 1. Descripción de los datos](#data_review)\n",
    "    * [Conclusiones](#data_review_conclusions)\n",
    "* [Etapa 2. Preprocesamiento de datos](#data_preprocessing)\n",
    "    * [2.1 Estilo del encabezado](#header_style)\n",
    "    * [2.2 Valores ausentes](#missing_values)\n",
    "    * [2.3 Duplicados](#duplicates)\n",
    "    * [2.4 Conclusiones](#data_preprocessing_conclusions)\n",
    "* [Etapa 3. Prueba de hipótesis](#hypothesis)\n",
    "    * [3.1 Hipótesis 1: actividad de los usuarios y las usuarias en las dos ciudades](#activity)\n",
    "* [Conclusiones](#end)"
   ]
  },
  {
   "cell_type": "markdown",
   "metadata": {
    "id": "VUC88oWjTJw2"
   },
   "source": [
    "## Introducción <a id='intro'></a>\n",
    "En este proyecto, compararás las preferencias musicales de las ciudades de Springfield y Shelbyville. Estudiarás datos reales de transmisión de música online para probar la hipótesis a continuación y comparar el comportamiento de los usuarios y las usuarias de estas dos ciudades.\n",
    "\n",
    "### Objetivo:\n",
    "Prueba la hipótesis:\n",
    "1. La actividad de los usuarios y las usuarias difiere según el día de la semana y dependiendo de la ciudad.\n",
    "\n",
    "\n",
    "### Etapas\n",
    "Los datos del comportamiento del usuario se almacenan en el archivo `/datasets/music_project_en.csv`. No hay ninguna información sobre la calidad de los datos, así que necesitarás examinarlos antes de probar la hipótesis.\n",
    "\n",
    "Primero, evaluarás la calidad de los datos y verás si los problemas son significativos. Entonces, durante el preprocesamiento de datos, tomarás en cuenta los problemas más críticos.\n",
    "\n",
    "Tu proyecto consistirá en tres etapas:\n",
    " 1. Descripción de los datos.\n",
    " 2. Preprocesamiento de datos.\n",
    " 3. Prueba de hipótesis.\n",
    "\n",
    "\n",
    "\n",
    "\n",
    "\n",
    "\n"
   ]
  },
  {
   "cell_type": "markdown",
   "metadata": {
    "id": "hDt6pg-Rw-1U"
   },
   "source": [
    "[Volver a Contenidos](#back)"
   ]
  },
  {
   "cell_type": "markdown",
   "metadata": {
    "id": "Ml1hmfXC_Zcs"
   },
   "source": [
    "## Etapa 1. Descripción de los datos <a id='data_review'></a>\n",
    "\n",
    "Abrir los datos y examínarlos."
   ]
  },
  {
   "cell_type": "code",
   "execution_count": 1,
   "metadata": {
    "id": "AXN7PHPN_Zcs"
   },
   "outputs": [],
   "source": [
    "# Importar pandas\n",
    "import pandas as pd"
   ]
  },
  {
   "cell_type": "markdown",
   "metadata": {
    "id": "SG23P8tt_Zcs"
   },
   "source": [
    "Leer el archivo `music_project_en.csv` de la carpeta `/datasets/` y guárdalo en la variable `df`:"
   ]
  },
  {
   "cell_type": "code",
   "execution_count": 2,
   "metadata": {
    "id": "fFVu7vqh_Zct"
   },
   "outputs": [],
   "source": [
    "df = pd.read_csv('/datasets/music_project_en.csv')"
   ]
  },
  {
   "cell_type": "markdown",
   "metadata": {
    "id": "rDoOMd3uTqnZ"
   },
   "source": [
    "Muestra las 10 primeras filas de la tabla:"
   ]
  },
  {
   "cell_type": "code",
   "execution_count": 3,
   "metadata": {
    "id": "oWTVX3gW_Zct"
   },
   "outputs": [
    {
     "data": {
      "text/html": [
       "<div>\n",
       "<style scoped>\n",
       "    .dataframe tbody tr th:only-of-type {\n",
       "        vertical-align: middle;\n",
       "    }\n",
       "\n",
       "    .dataframe tbody tr th {\n",
       "        vertical-align: top;\n",
       "    }\n",
       "\n",
       "    .dataframe thead th {\n",
       "        text-align: right;\n",
       "    }\n",
       "</style>\n",
       "<table border=\"1\" class=\"dataframe\">\n",
       "  <thead>\n",
       "    <tr style=\"text-align: right;\">\n",
       "      <th></th>\n",
       "      <th>userID</th>\n",
       "      <th>Track</th>\n",
       "      <th>artist</th>\n",
       "      <th>genre</th>\n",
       "      <th>City</th>\n",
       "      <th>time</th>\n",
       "      <th>Day</th>\n",
       "    </tr>\n",
       "  </thead>\n",
       "  <tbody>\n",
       "    <tr>\n",
       "      <th>0</th>\n",
       "      <td>FFB692EC</td>\n",
       "      <td>Kamigata To Boots</td>\n",
       "      <td>The Mass Missile</td>\n",
       "      <td>rock</td>\n",
       "      <td>Shelbyville</td>\n",
       "      <td>20:28:33</td>\n",
       "      <td>Wednesday</td>\n",
       "    </tr>\n",
       "    <tr>\n",
       "      <th>1</th>\n",
       "      <td>55204538</td>\n",
       "      <td>Delayed Because of Accident</td>\n",
       "      <td>Andreas Rönnberg</td>\n",
       "      <td>rock</td>\n",
       "      <td>Springfield</td>\n",
       "      <td>14:07:09</td>\n",
       "      <td>Friday</td>\n",
       "    </tr>\n",
       "    <tr>\n",
       "      <th>2</th>\n",
       "      <td>20EC38</td>\n",
       "      <td>Funiculì funiculà</td>\n",
       "      <td>Mario Lanza</td>\n",
       "      <td>pop</td>\n",
       "      <td>Shelbyville</td>\n",
       "      <td>20:58:07</td>\n",
       "      <td>Wednesday</td>\n",
       "    </tr>\n",
       "    <tr>\n",
       "      <th>3</th>\n",
       "      <td>A3DD03C9</td>\n",
       "      <td>Dragons in the Sunset</td>\n",
       "      <td>Fire + Ice</td>\n",
       "      <td>folk</td>\n",
       "      <td>Shelbyville</td>\n",
       "      <td>08:37:09</td>\n",
       "      <td>Monday</td>\n",
       "    </tr>\n",
       "    <tr>\n",
       "      <th>4</th>\n",
       "      <td>E2DC1FAE</td>\n",
       "      <td>Soul People</td>\n",
       "      <td>Space Echo</td>\n",
       "      <td>dance</td>\n",
       "      <td>Springfield</td>\n",
       "      <td>08:34:34</td>\n",
       "      <td>Monday</td>\n",
       "    </tr>\n",
       "    <tr>\n",
       "      <th>5</th>\n",
       "      <td>842029A1</td>\n",
       "      <td>Chains</td>\n",
       "      <td>Obladaet</td>\n",
       "      <td>rusrap</td>\n",
       "      <td>Shelbyville</td>\n",
       "      <td>13:09:41</td>\n",
       "      <td>Friday</td>\n",
       "    </tr>\n",
       "    <tr>\n",
       "      <th>6</th>\n",
       "      <td>4CB90AA5</td>\n",
       "      <td>True</td>\n",
       "      <td>Roman Messer</td>\n",
       "      <td>dance</td>\n",
       "      <td>Springfield</td>\n",
       "      <td>13:00:07</td>\n",
       "      <td>Wednesday</td>\n",
       "    </tr>\n",
       "    <tr>\n",
       "      <th>7</th>\n",
       "      <td>F03E1C1F</td>\n",
       "      <td>Feeling This Way</td>\n",
       "      <td>Polina Griffith</td>\n",
       "      <td>dance</td>\n",
       "      <td>Springfield</td>\n",
       "      <td>20:47:49</td>\n",
       "      <td>Wednesday</td>\n",
       "    </tr>\n",
       "    <tr>\n",
       "      <th>8</th>\n",
       "      <td>8FA1D3BE</td>\n",
       "      <td>L’estate</td>\n",
       "      <td>Julia Dalia</td>\n",
       "      <td>ruspop</td>\n",
       "      <td>Springfield</td>\n",
       "      <td>09:17:40</td>\n",
       "      <td>Friday</td>\n",
       "    </tr>\n",
       "    <tr>\n",
       "      <th>9</th>\n",
       "      <td>E772D5C0</td>\n",
       "      <td>Pessimist</td>\n",
       "      <td>NaN</td>\n",
       "      <td>dance</td>\n",
       "      <td>Shelbyville</td>\n",
       "      <td>21:20:49</td>\n",
       "      <td>Wednesday</td>\n",
       "    </tr>\n",
       "  </tbody>\n",
       "</table>\n",
       "</div>"
      ],
      "text/plain": [
       "     userID                        Track            artist   genre  \\\n",
       "0  FFB692EC            Kamigata To Boots  The Mass Missile    rock   \n",
       "1  55204538  Delayed Because of Accident  Andreas Rönnberg    rock   \n",
       "2    20EC38            Funiculì funiculà       Mario Lanza     pop   \n",
       "3  A3DD03C9        Dragons in the Sunset        Fire + Ice    folk   \n",
       "4  E2DC1FAE                  Soul People        Space Echo   dance   \n",
       "5  842029A1                       Chains          Obladaet  rusrap   \n",
       "6  4CB90AA5                         True      Roman Messer   dance   \n",
       "7  F03E1C1F             Feeling This Way   Polina Griffith   dance   \n",
       "8  8FA1D3BE                     L’estate       Julia Dalia  ruspop   \n",
       "9  E772D5C0                    Pessimist               NaN   dance   \n",
       "\n",
       "        City        time        Day  \n",
       "0  Shelbyville  20:28:33  Wednesday  \n",
       "1  Springfield  14:07:09     Friday  \n",
       "2  Shelbyville  20:58:07  Wednesday  \n",
       "3  Shelbyville  08:37:09     Monday  \n",
       "4  Springfield  08:34:34     Monday  \n",
       "5  Shelbyville  13:09:41     Friday  \n",
       "6  Springfield  13:00:07  Wednesday  \n",
       "7  Springfield  20:47:49  Wednesday  \n",
       "8  Springfield  09:17:40     Friday  \n",
       "9  Shelbyville  21:20:49  Wednesday  "
      ]
     },
     "execution_count": 3,
     "metadata": {},
     "output_type": "execute_result"
    }
   ],
   "source": [
    "df.head(10)"
   ]
  },
  {
   "cell_type": "markdown",
   "metadata": {
    "id": "EO73Kwic_Zct"
   },
   "source": [
    "Obtener la información general sobre nuestros datos"
   ]
  },
  {
   "cell_type": "code",
   "execution_count": 4,
   "metadata": {
    "id": "DSf2kIb-_Zct"
   },
   "outputs": [
    {
     "name": "stdout",
     "output_type": "stream",
     "text": [
      "<class 'pandas.core.frame.DataFrame'>\n",
      "RangeIndex: 65079 entries, 0 to 65078\n",
      "Data columns (total 7 columns):\n",
      " #   Column    Non-Null Count  Dtype \n",
      "---  ------    --------------  ----- \n",
      " 0     userID  65079 non-null  object\n",
      " 1   Track     63736 non-null  object\n",
      " 2   artist    57512 non-null  object\n",
      " 3   genre     63881 non-null  object\n",
      " 4     City    65079 non-null  object\n",
      " 5   time      65079 non-null  object\n",
      " 6   Day       65079 non-null  object\n",
      "dtypes: object(7)\n",
      "memory usage: 3.5+ MB\n",
      "None\n",
      "---------------\n",
      "          userID  Track     artist  genre       City        time     Day\n",
      "count      65079  63736      57512  63881        65079     65079   65079\n",
      "unique     41748  39666      37806    268            2     20392       3\n",
      "top     A8AE9169  Brand  Kartvelli    pop  Springfield  21:51:22  Friday\n",
      "freq          76    136        136   8850        45360        14   23149\n"
     ]
    }
   ],
   "source": [
    "print(df.info())\n",
    "print('---------------')\n",
    "print(df.describe())"
   ]
  },
  {
   "cell_type": "markdown",
   "metadata": {
    "id": "TaQ2Iwbr_Zct"
   },
   "source": [
    "Estas son nuestras observaciones sobre la tabla. Contiene siete columnas. Almacenan los mismos tipos de datos: `object`.\n",
    "\n",
    "Según la documentación:\n",
    "- `' userID'`: identificador del usuario o la usuaria;\n",
    "- `'Track'`: título de la canción;\n",
    "- `'artist'`: nombre del artista;\n",
    "- `'genre'`: género de la pista;\n",
    "- `'City'`: ciudad del usuario o la usuaria;\n",
    "- `'time'`: la hora exacta en la que se reprodujo la canción;\n",
    "- `'Day'`: día de la semana.\n",
    "\n",
    "Podemos ver tres problemas con el estilo en los encabezados de la tabla:\n",
    "1. Algunos encabezados están en mayúsculas, otros en minúsculas.\n",
    "2. Hay espacios en algunos encabezados.\n",
    "3. Los nombres de las columnas son poco descriptivos sobre la informacion que entrega cada una y en el caso  de userID no se respeta el estilo `snake_case`.\n",
    "\n",
    "\n"
   ]
  },
  {
   "cell_type": "markdown",
   "metadata": {
    "id": "MCB6-dXG_Zct"
   },
   "source": [
    "- Se está utilizando solo datos de tipo Objectc que en otro entorno fuera del DF podria diferenciarse entre datos de tipo DateTime/Date y String/Texto.\n",
    "\n",
    "- Podriamos mejorar y especificar mejor en el nombre de la columna la informacion que entrega o podemos consultar la documentacion de la tabla.\n",
    "\n",
    "- Para confirmar o negar la hipotesis habra que agrupar los datos por dia de la semana y quizas sea bueno mostrar solo los más relevantes que incluiria: la cuidad, el dia de la semana y el user_id.\n",
    "\n",
    "- Existen datos nulos en la tabla y tambien duplicados, pero para efectos de este análisis los valores nulos al no estar en las columnas, 'dia', 'ciudad, o 'user_id', no tienen mayor relevancia. En cambio los valores duplicados podrian probocar errores en el analisis"
   ]
  },
  {
   "cell_type": "markdown",
   "metadata": {
    "id": "3eL__vcwViOi"
   },
   "source": [
    "[Volver a Contenidos](#back)"
   ]
  },
  {
   "cell_type": "markdown",
   "metadata": {
    "id": "SjYF6Ub9_Zct"
   },
   "source": [
    "## Etapa 2. Preprocesamiento de datos <a id='data_preprocessing'></a>\n",
    "\n",
    "El objetivo aquí es preparar los datos para que sean analizados.\n",
    "El primer paso es resolver cualquier problema con los encabezados. Luego podemos avanzar a los valores ausentes y duplicados. Empecemos.\n",
    "\n",
    "Corregir el formato en los encabezados de la tabla.\n"
   ]
  },
  {
   "cell_type": "markdown",
   "metadata": {
    "id": "dIaKXr29_Zct"
   },
   "source": [
    "### Estilo del encabezado <a id='header_style'></a>\n",
    "Muestra los encabezados de la tabla (los nombres de las columnas):"
   ]
  },
  {
   "cell_type": "code",
   "execution_count": 5,
   "metadata": {
    "id": "oKOTdF_Q_Zct"
   },
   "outputs": [
    {
     "data": {
      "text/plain": [
       "Index(['  userID', 'Track', 'artist', 'genre', '  City  ', 'time', 'Day'], dtype='object')"
      ]
     },
     "execution_count": 5,
     "metadata": {},
     "output_type": "execute_result"
    }
   ],
   "source": [
    "df.columns"
   ]
  },
  {
   "cell_type": "markdown",
   "metadata": {
    "id": "zj5534cv_Zct"
   },
   "source": [
    "Cambiar los encabezados de la tabla de acuerdo con las reglas del buen estilo:\n",
    "* Todos los caracteres deben ser minúsculas.\n",
    "* Elimina los espacios.\n",
    "* Si el nombre tiene varias palabras, utiliza `snake_case`."
   ]
  },
  {
   "cell_type": "markdown",
   "metadata": {
    "id": "Xu0zkfe5zNJe"
   },
   "source": [
    "Utilizando el ciclo for se itera sobre las columnas para modificar sus nombres a  minusculas"
   ]
  },
  {
   "cell_type": "code",
   "execution_count": 6,
   "metadata": {
    "id": "6I_RwwMhzM4e"
   },
   "outputs": [],
   "source": [
    "# Bucle en los encabezados poniendo todo en minúsculas\n",
    "new_names = []\n",
    "for column in df.columns :\n",
    "    lower_name = column.lower()\n",
    "    new_names.append(lower_name)\n",
    "df.columns =  new_names"
   ]
  },
  {
   "cell_type": "markdown",
   "metadata": {
    "id": "pweIRxjSzPYW"
   },
   "source": [
    "Ahora, utilizando el mismo método, se elimina los espacios al principio y al final de los nombres de las columnas e imprime los nombres de las columnas nuevamente:"
   ]
  },
  {
   "cell_type": "code",
   "execution_count": 7,
   "metadata": {
    "id": "vVQXbFyJzSYl"
   },
   "outputs": [],
   "source": [
    "# Bucle en los encabezados eliminando los espacios\n",
    "new_names = []  \n",
    "for column in df.columns:\n",
    "    strip_name = column.strip()\n",
    "    non_space = strip_name.replace(' ','_')\n",
    "    new_names.append(non_space)\n",
    "df.columns = new_names"
   ]
  },
  {
   "cell_type": "markdown",
   "metadata": {
    "id": "yCb8MW1JzURd"
   },
   "source": [
    "Necesitamos aplicar la regla de snake_case a la columna `userid`. Debe ser `user_id`."
   ]
  },
  {
   "cell_type": "code",
   "execution_count": 8,
   "metadata": {
    "id": "ISlFqs5y_Zct"
   },
   "outputs": [],
   "source": [
    "# Cambiar el nombre de la columna \"userid\"\n",
    "new_name = {'userid' : 'user_id'}\n",
    "df.rename(columns = new_name, inplace = True)"
   ]
  },
  {
   "cell_type": "markdown",
   "metadata": {
    "id": "1dqbh00J_Zct"
   },
   "source": [
    "Comprueba el resultado. Muestra los encabezados una vez más:"
   ]
  },
  {
   "cell_type": "code",
   "execution_count": 8,
   "metadata": {
    "id": "d4NOAmTW_Zct"
   },
   "outputs": [
    {
     "data": {
      "text/plain": [
       "Index(['userid', 'track', 'artist', 'genre', 'city', 'time', 'day'], dtype='object')"
      ]
     },
     "execution_count": 8,
     "metadata": {},
     "output_type": "execute_result"
    }
   ],
   "source": [
    "# Comprobar el resultado: la lista de encabezados\n",
    "df.columns"
   ]
  },
  {
   "cell_type": "markdown",
   "metadata": {
    "id": "xYJk6ksJVpOl"
   },
   "source": [
    "[Volver a Contenidos](#back)"
   ]
  },
  {
   "cell_type": "markdown",
   "metadata": {
    "id": "5ISfbcfY_Zct"
   },
   "source": [
    "### Valores ausentes <a id='missing_values'></a>\n",
    " Encontrar el número de valores ausentes en la tabla."
   ]
  },
  {
   "cell_type": "code",
   "execution_count": 9,
   "metadata": {
    "id": "RskX29qr_Zct"
   },
   "outputs": [
    {
     "data": {
      "text/plain": [
       "userid       0\n",
       "track     1343\n",
       "artist    7567\n",
       "genre     1198\n",
       "city         0\n",
       "time         0\n",
       "day          0\n",
       "dtype: int64"
      ]
     },
     "execution_count": 9,
     "metadata": {},
     "output_type": "execute_result"
    }
   ],
   "source": [
    "# Calcular el número de valores ausentes\n",
    "df.isna().sum()"
   ]
  },
  {
   "cell_type": "markdown",
   "metadata": {
    "id": "qubhgnlO_Zct"
   },
   "source": [
    "No todos los valores ausentes afectan a la investigación. Por ejemplo, los valores ausentes en `track` y `artist` no son cruciales. Simplemente puedes reemplazarlos con valores predeterminados como el string `'unknown'` (desconocido).\n",
    "\n",
    "Pero los valores ausentes en `'genre'` pueden afectar la comparación entre las preferencias musicales de Springfield y Shelbyville. En la vida real, sería útil saber las razones por las cuales hay datos ausentes e intentar recuperarlos. Pero no tenemos esa oportunidad en este proyecto. Así que tendrás que:\n",
    "* rellenar estos valores ausentes con un valor predeterminado;\n",
    "* evaluar cuánto podrían afectar los valores ausentes a tus cómputos;"
   ]
  },
  {
   "cell_type": "markdown",
   "metadata": {
    "id": "fSv2laPA_Zct"
   },
   "source": [
    "Reemplazar los valores ausentes en las columnas `'track'`, `'artist'` y `'genre'` con el string `'unknown'`. Como mostramos anteriormente en las lecciones, la mejor forma de hacerlo es crear una lista que almacene los nombres de las columnas donde se necesita el reemplazo. Luego, utiliza esta lista e itera sobre las columnas donde se necesita el reemplazo haciendo el propio reemplazo."
   ]
  },
  {
   "cell_type": "code",
   "execution_count": 10,
   "metadata": {
    "id": "KplB5qWs_Zct"
   },
   "outputs": [],
   "source": [
    "# Bucle en los encabezados reemplazando los valores ausentes con 'unknown'\n",
    "columns_to_replace = ['track', 'artist' , 'genre']\n",
    "for column in columns_to_replace:\n",
    "    df[column].fillna('unknown', inplace=True)"
   ]
  },
  {
   "cell_type": "markdown",
   "metadata": {
    "id": "Ilsm-MZo_Zct"
   },
   "source": [
    "Comprobar el resultado para asegurarse de que después del reemplazo no haya valores ausentes en el conjunto de datos. Para hacer esto, contar los valores ausentes nuevamente."
   ]
  },
  {
   "cell_type": "code",
   "execution_count": 11,
   "metadata": {
    "id": "Tq4nYRX4_Zct"
   },
   "outputs": [
    {
     "data": {
      "text/plain": [
       "userid    0\n",
       "track     0\n",
       "artist    0\n",
       "genre     0\n",
       "city      0\n",
       "time      0\n",
       "day       0\n",
       "dtype: int64"
      ]
     },
     "execution_count": 11,
     "metadata": {},
     "output_type": "execute_result"
    }
   ],
   "source": [
    "# Contar valores ausentes\n",
    "df.isnull().sum()"
   ]
  },
  {
   "cell_type": "markdown",
   "metadata": {
    "id": "74ZIBmq9VrsK"
   },
   "source": [
    "[Volver a Contenidos](#back)"
   ]
  },
  {
   "cell_type": "markdown",
   "metadata": {
    "id": "BWKRtBJ3_Zct"
   },
   "source": [
    "### Duplicados <a id='duplicates'></a>\n",
    "Encontrar el número de duplicados explícitos en la tabla."
   ]
  },
  {
   "cell_type": "code",
   "execution_count": 12,
   "metadata": {
    "id": "36eES_S0_Zct"
   },
   "outputs": [
    {
     "data": {
      "text/plain": [
       "3826"
      ]
     },
     "execution_count": 12,
     "metadata": {},
     "output_type": "execute_result"
    }
   ],
   "source": [
    "# Contar duplicados explícitos\n",
    "df.duplicated().sum()\n"
   ]
  },
  {
   "cell_type": "markdown",
   "metadata": {
    "id": "Ot25h6XR_Zct"
   },
   "source": [
    "Ahora, eliminar todos los duplicados. "
   ]
  },
  {
   "cell_type": "code",
   "execution_count": 13,
   "metadata": {
    "id": "exFHq6tt_Zct"
   },
   "outputs": [],
   "source": [
    "# Eliminar duplicados explícitos\n",
    "df.drop_duplicates(inplace= True)"
   ]
  },
  {
   "cell_type": "markdown",
   "metadata": {
    "id": "Im2YwBEG_Zct"
   },
   "source": [
    "Comprobemos ahora si eliminamos con éxito todos los duplicados. Contar los duplicados explícitos una vez más para asegurarte de haberlos eliminado todos:"
   ]
  },
  {
   "cell_type": "code",
   "execution_count": 14,
   "metadata": {
    "id": "-8PuNWQ0_Zct"
   },
   "outputs": [
    {
     "data": {
      "text/plain": [
       "0"
      ]
     },
     "execution_count": 14,
     "metadata": {},
     "output_type": "execute_result"
    }
   ],
   "source": [
    "# Comprobar de nuevo si hay duplicados\n",
    "df.duplicated().sum()"
   ]
  },
  {
   "cell_type": "markdown",
   "metadata": {
    "id": "QlFBsxAr_Zct"
   },
   "source": [
    "Ahora queremos deshacernos de los duplicados implícitos en la columna `genre`. Por ejemplo, el nombre de un género se puede escribir de varias formas. Dichos errores también pueden afectar al resultado."
   ]
  },
  {
   "cell_type": "markdown",
   "metadata": {
    "id": "eSjWwsOh_Zct"
   },
   "source": [
    "Para hacerlo, primero mostremos una lista de nombres de género únicos, ordenados en orden alfabético. Para ello:\n",
    "* Extrae la columna `genre` del DataFrame.\n",
    "* Llama al método que devolverá todos los valores únicos en la columna extraída.\n"
   ]
  },
  {
   "cell_type": "code",
   "execution_count": 17,
   "metadata": {
    "id": "JIUcqzZN_Zct"
   },
   "outputs": [
    {
     "name": "stdout",
     "output_type": "stream",
     "text": [
      "269 \n",
      " ['acid' 'acoustic' 'action' 'adult' 'africa' 'afrikaans' 'alternative'\n",
      " 'ambient' 'americana' 'animated' 'anime' 'arabesk' 'arabic' 'arena'\n",
      " 'argentinetango' 'art' 'audiobook' 'avantgarde' 'axé' 'baile' 'balkan'\n",
      " 'beats' 'bigroom' 'black' 'bluegrass' 'blues' 'bollywood' 'bossa'\n",
      " 'brazilian' 'breakbeat' 'breaks' 'broadway' 'cantautori' 'cantopop'\n",
      " 'canzone' 'caribbean' 'caucasian' 'celtic' 'chamber' 'children' 'chill'\n",
      " 'chinese' 'choral' 'christian' 'christmas' 'classical' 'classicmetal'\n",
      " 'club' 'colombian' 'comedy' 'conjazz' 'contemporary' 'country' 'cuban'\n",
      " 'dance' 'dancehall' 'dancepop' 'dark' 'death' 'deep' 'deutschrock'\n",
      " 'deutschspr' 'dirty' 'disco' 'dnb' 'documentary' 'downbeat' 'downtempo'\n",
      " 'drum' 'dub' 'dubstep' 'eastern' 'easy' 'electronic' 'electropop' 'emo'\n",
      " 'entehno' 'epicmetal' 'estrada' 'ethnic' 'eurofolk' 'european'\n",
      " 'experimental' 'extrememetal' 'fado' 'film' 'fitness' 'flamenco' 'folk'\n",
      " 'folklore' 'folkmetal' 'folkrock' 'folktronica' 'forró' 'frankreich'\n",
      " 'französisch' 'french' 'funk' 'future' 'gangsta' 'garage' 'german'\n",
      " 'ghazal' 'gitarre' 'glitch' 'gospel' 'gothic' 'grime' 'grunge' 'gypsy'\n",
      " 'handsup' \"hard'n'heavy\" 'hardcore' 'hardstyle' 'hardtechno' 'hip'\n",
      " 'hip-hop' 'hiphop' 'historisch' 'holiday' 'hop' 'horror' 'house' 'idm'\n",
      " 'independent' 'indian' 'indie' 'indipop' 'industrial' 'inspirational'\n",
      " 'instrumental' 'international' 'irish' 'jam' 'japanese' 'jazz' 'jewish'\n",
      " 'jpop' 'jungle' 'k-pop' 'karadeniz' 'karaoke' 'kayokyoku' 'korean'\n",
      " 'laiko' 'latin' 'latino' 'leftfield' 'local' 'lounge' 'loungeelectronic'\n",
      " 'lovers' 'malaysian' 'mandopop' 'marschmusik' 'meditative'\n",
      " 'mediterranean' 'melodic' 'metal' 'metalcore' 'mexican' 'middle'\n",
      " 'minimal' 'miscellaneous' 'modern' 'mood' 'mpb' 'muslim' 'native'\n",
      " 'neoklassik' 'neue' 'new' 'newage' 'newwave' 'nu' 'nujazz' 'numetal'\n",
      " 'oceania' 'old' 'opera' 'orchestral' 'other' 'piano' 'pop'\n",
      " 'popelectronic' 'popeurodance' 'post' 'posthardcore' 'postrock' 'power'\n",
      " 'progmetal' 'progressive' 'psychedelic' 'punjabi' 'punk' 'quebecois'\n",
      " 'ragga' 'ram' 'rancheras' 'rap' 'rave' 'reggae' 'reggaeton' 'regional'\n",
      " 'relax' 'religious' 'retro' 'rhythm' 'rnb' 'rnr' 'rock' 'rockabilly'\n",
      " 'romance' 'roots' 'ruspop' 'rusrap' 'rusrock' 'salsa' 'samba' 'schlager'\n",
      " 'self' 'sertanejo' 'shoegazing' 'showtunes' 'singer' 'ska' 'slow'\n",
      " 'smooth' 'soul' 'soulful' 'sound' 'soundtrack' 'southern' 'specialty'\n",
      " 'speech' 'spiritual' 'sport' 'stonerrock' 'surf' 'swing' 'synthpop'\n",
      " 'sängerportrait' 'tango' 'tanzorchester' 'taraftar' 'tech' 'techno'\n",
      " 'thrash' 'top' 'traditional' 'tradjazz' 'trance' 'tribal' 'trip'\n",
      " 'triphop' 'tropical' 'türk' 'türkçe' 'unknown' 'urban' 'uzbek' 'variété'\n",
      " 'vi' 'videogame' 'vocal' 'western' 'world' 'worldbeat' 'ïîï']\n"
     ]
    }
   ],
   "source": [
    "# Inspeccionar los nombres de géneros únicos\n",
    "genres = df['genre'].unique()\n",
    "genres.sort()\n",
    "n_genres = df['genre'].nunique()\n",
    "print(n_genres,'\\n', genres)"
   ]
  },
  {
   "cell_type": "markdown",
   "metadata": {
    "id": "qej-Qmuo_Zct"
   },
   "source": [
    "Buscar en la lista para encontrar duplicados implícitos del género `hiphop`. Estos pueden ser nombres escritos incorrectamente o nombres alternativos para el mismo género.\n",
    "\n",
    "Verás los siguientes duplicados implícitos:\n",
    "* `hip`\n",
    "* `hop`\n",
    "* `hip-hop`\n",
    "\n",
    "Para deshacerte de ellos, crea una función llamada `replace_wrong_genres()` con dos parámetros:\n",
    "* `wrong_genres=`: esta es una lista que contiene todos los valores que necesitas reemplazar.\n",
    "* `correct_genre=`: este es un string que vas a utilizar como reemplazo.\n",
    "\n",
    "Como resultado, la función debería corregir los nombres en la columna `'genre'` de la tabla `df`, es decir, remplazar cada valor de la lista `wrong_genres` por el valor en `correct_genre`.\n",
    "\n",
    "Dentro del cuerpo de la función, utiliza un bucle `'for'` para iterar sobre la lista de géneros incorrectos, extrae la columna `'genre'` y aplica el método `replace` para hacer correcciones."
   ]
  },
  {
   "cell_type": "code",
   "execution_count": 17,
   "metadata": {
    "id": "ErNDkmns_Zct"
   },
   "outputs": [],
   "source": [
    "# Función para reemplazar duplicados implícitos\n",
    "\n",
    "def replace_wrong_genres(dataFrame, column, wrong_values, right_value):\n",
    "    for duplicate in wrong_values : \n",
    "        dataFrame[column].replace(duplicate, right_value, inplace = True)\n",
    "    return dataFrame\n",
    "wrong_genres = ['hip', 'hop', 'hip-hop']\n",
    "correct_genre='hiphop'"
   ]
  },
  {
   "cell_type": "markdown",
   "metadata": {
    "id": "aDoBJxbA_Zct"
   },
   "source": [
    "Ahora, llama a `replace_wrong_genres()` y pásale tales argumentos para que retire los duplicados implícitos (`hip`, `hop` y `hip-hop`) y los reemplace por `hiphop`:"
   ]
  },
  {
   "cell_type": "code",
   "execution_count": 18,
   "metadata": {
    "id": "YN5i2hpmSo09"
   },
   "outputs": [],
   "source": [
    "# Eliminar duplicados implícitos\n",
    "df= replace_wrong_genres(df, 'genre', wrong_genres, correct_genre)"
   ]
  },
  {
   "cell_type": "markdown",
   "metadata": {
    "id": "zQKF16_RG15m"
   },
   "source": [
    "Asegúrate de que los nombres duplicados han sido eliminados. Muestra la lista de valores únicos de la columna `'genre'` una vez más:"
   ]
  },
  {
   "cell_type": "code",
   "execution_count": 19,
   "metadata": {
    "id": "wvixALnFG15m"
   },
   "outputs": [
    {
     "name": "stdout",
     "output_type": "stream",
     "text": [
      "266 \n",
      " ['rock' 'pop' 'folk' 'dance' 'rusrap' 'ruspop' 'world' 'electronic'\n",
      " 'unknown' 'alternative' 'children' 'rnb' 'hiphop' 'jazz' 'postrock'\n",
      " 'latin' 'classical' 'metal' 'reggae' 'triphop' 'blues' 'instrumental'\n",
      " 'rusrock' 'dnb' 'türk' 'post' 'country' 'psychedelic' 'conjazz' 'indie'\n",
      " 'posthardcore' 'local' 'avantgarde' 'punk' 'videogame' 'techno' 'house'\n",
      " 'christmas' 'melodic' 'caucasian' 'reggaeton' 'soundtrack' 'singer' 'ska'\n",
      " 'salsa' 'ambient' 'film' 'western' 'rap' 'beats' \"hard'n'heavy\"\n",
      " 'progmetal' 'minimal' 'tropical' 'contemporary' 'new' 'soul' 'holiday'\n",
      " 'german' 'jpop' 'spiritual' 'urban' 'gospel' 'nujazz' 'folkmetal'\n",
      " 'trance' 'miscellaneous' 'anime' 'hardcore' 'progressive' 'korean'\n",
      " 'numetal' 'vocal' 'estrada' 'tango' 'loungeelectronic' 'classicmetal'\n",
      " 'dubstep' 'club' 'deep' 'southern' 'black' 'folkrock' 'fitness' 'french'\n",
      " 'disco' 'religious' 'drum' 'extrememetal' 'türkçe' 'experimental' 'easy'\n",
      " 'metalcore' 'modern' 'argentinetango' 'old' 'swing' 'breaks' 'eurofolk'\n",
      " 'stonerrock' 'industrial' 'funk' 'middle' 'variété' 'other' 'adult'\n",
      " 'christian' 'thrash' 'gothic' 'international' 'muslim' 'relax' 'schlager'\n",
      " 'caribbean' 'nu' 'breakbeat' 'comedy' 'chill' 'newage' 'specialty'\n",
      " 'uzbek' 'k-pop' 'balkan' 'chinese' 'meditative' 'dub' 'power' 'death'\n",
      " 'grime' 'arabesk' 'romance' 'flamenco' 'leftfield' 'european' 'tech'\n",
      " 'newwave' 'dancehall' 'mpb' 'piano' 'top' 'bigroom' 'opera' 'celtic'\n",
      " 'tradjazz' 'acoustic' 'epicmetal' 'historisch' 'downbeat' 'downtempo'\n",
      " 'africa' 'audiobook' 'jewish' 'sängerportrait' 'deutschrock' 'eastern'\n",
      " 'action' 'future' 'electropop' 'folklore' 'bollywood' 'marschmusik' 'rnr'\n",
      " 'karaoke' 'indian' 'rancheras' 'afrikaans' 'rhythm' 'sound' 'deutschspr'\n",
      " 'trip' 'lovers' 'choral' 'dancepop' 'retro' 'smooth' 'mexican'\n",
      " 'brazilian' 'ïîï' 'mood' 'surf' 'gangsta' 'inspirational' 'idm' 'ethnic'\n",
      " 'bluegrass' 'broadway' 'animated' 'americana' 'karadeniz' 'rockabilly'\n",
      " 'colombian' 'self' 'sertanejo' 'japanese' 'canzone' 'lounge' 'sport'\n",
      " 'ragga' 'traditional' 'gitarre' 'frankreich' 'emo' 'laiko' 'cantopop'\n",
      " 'glitch' 'documentary' 'oceania' 'popeurodance' 'dark' 'vi' 'grunge'\n",
      " 'hardstyle' 'samba' 'garage' 'art' 'folktronica' 'entehno'\n",
      " 'mediterranean' 'chamber' 'cuban' 'taraftar' 'gypsy' 'hardtechno'\n",
      " 'shoegazing' 'bossa' 'latino' 'worldbeat' 'malaysian' 'baile' 'ghazal'\n",
      " 'arabic' 'popelectronic' 'acid' 'kayokyoku' 'neoklassik' 'tribal'\n",
      " 'tanzorchester' 'native' 'independent' 'cantautori' 'handsup' 'punjabi'\n",
      " 'synthpop' 'rave' 'französisch' 'quebecois' 'speech' 'soulful' 'jam'\n",
      " 'ram' 'horror' 'orchestral' 'neue' 'roots' 'slow' 'jungle' 'indipop'\n",
      " 'axé' 'fado' 'showtunes' 'arena' 'irish' 'mandopop' 'forró' 'dirty'\n",
      " 'regional']\n"
     ]
    }
   ],
   "source": [
    "# Comprobación de duplicados implícitos\n",
    "genres = df['genre'].unique()\n",
    "n_genres = df['genre'].nunique()\n",
    "print(n_genres,'\\n', genres)\n",
    "\n"
   ]
  },
  {
   "cell_type": "markdown",
   "metadata": {
    "id": "ALgNbvF3VtPA"
   },
   "source": [
    "[Volver a Contenidos](#back)"
   ]
  },
  {
   "cell_type": "markdown",
   "metadata": {
    "id": "jz6a9-7HQUDd"
   },
   "source": [
    "### Observaciones <a id='data_preprocessing_conclusions'></a>\n",
    "\n",
    "- Primero, para comprobar cuantos diferentes generos habia inicialmente utilicé el metodo \"nunique\", que devolvio como resultado 269 valores unicos en esa columna.\n",
    "- Para eliminar los duplicados señalados en el ejercicio creé una la funcion 'replace_wrong_genres' que toma como parametros: el DataFrame, la columna en la que se reemplazaran los valores, los potenciales nombres incorrectos y los nombres correctos.\n",
    "- La función recorre la columna 'genre' en el DataFrame señalado en busca de los valores en la lista del parametro  'wrong_values' y por cada coincidencia encontrada, reemplaza su valor con el del parametro 'right_value'\n",
    "- Creé dos nuevas variables; una lista con los duplicados parciales y un string con el nombre por el que deben reemplazarce los valores incorrectos.\n",
    "- Por ultimo llame a la funcion 'replace_wrong_genres' y complete los parametros con los datos del dataFrame que estoy usando.\n",
    "- Se eliminaron 3 valores duplicados parciales, seria más facíl analizar este arreglo en busca de duplicados parciales en una lista ordenada alfabeticamente o si se pudiera usar un metodo para buscar una secuencia de valores especificos dentro de cada string, tambien consideré por un momento que los generos latin y latino, podrian ser duplicados parciales, pero como usuaria de spotify, sé que hay pequeñas diferencias entre ambas categorias"
   ]
  },
  {
   "cell_type": "markdown",
   "metadata": {
    "id": "eK1es74rVujj"
   },
   "source": [
    "[Volver a Contenidos](#back)"
   ]
  },
  {
   "cell_type": "markdown",
   "metadata": {
    "id": "WttZHXH0SqKk"
   },
   "source": [
    "## Etapa 3. Prueba de hipótesis <a id='hypothesis'></a>"
   ]
  },
  {
   "cell_type": "markdown",
   "metadata": {
    "id": "Im936VVi_Zcu"
   },
   "source": [
    "### Hipótesis: comparar el comportamiento del usuario o la usuaria en las dos ciudades <a id='activity'></a>"
   ]
  },
  {
   "cell_type": "markdown",
   "metadata": {
    "id": "nwt_MuaL_Zcu"
   },
   "source": [
    "La hipótesis afirma que existen diferencias en la forma en que los usuarios y las usuarias de Springfield y Shelbyville consumen música. Para comprobar esto, usa los datos de tres días de la semana: lunes, miércoles y viernes.\n",
    "\n",
    "* Agrupa a los usuarios y las usuarias por ciudad.\n",
    "* Compara el número de canciones que cada grupo reprodujo el lunes, el miércoles y el viernes.\n"
   ]
  },
  {
   "cell_type": "markdown",
   "metadata": {
    "id": "8Dw_YMmT_Zcu"
   },
   "source": [
    "Realiza cada cálculo por separado.\n",
    "\n",
    "El primer paso es evaluar la actividad del usuario en cada ciudad. Recuerda las etapas dividir-aplicar-combinar de las que hablamos anteriormente en la lección. Tu objetivo ahora es agrupar los datos por ciudad, aplicar el método apropiado para contar durante la etapa de aplicación y luego encontrar la cantidad de canciones reproducidas en cada grupo especificando la columna para obtener el recuento.\n",
    "\n",
    "A continuación se muestra un ejemplo de cómo debería verse el resultado final:\n",
    "`df.groupby(by='....')['column'].method()`Realiza cada cálculo por separado.\n",
    "\n",
    "Para evaluar la actividad de los usuarios y las usuarias en cada ciudad, agrupa los datos por ciudad y encuentra la cantidad de canciones reproducidas en cada grupo.\n",
    "\n"
   ]
  },
  {
   "cell_type": "code",
   "execution_count": 20,
   "metadata": {
    "id": "0_Qs96oh_Zcu"
   },
   "outputs": [
    {
     "data": {
      "text/plain": [
       "city\n",
       "Shelbyville    18512\n",
       "Springfield    42741\n",
       "Name: day, dtype: int64"
      ]
     },
     "execution_count": 20,
     "metadata": {},
     "output_type": "execute_result"
    }
   ],
   "source": [
    "# Contar las canciones reproducidas en cada ciudad\n",
    "df.groupby(by = 'city')['day'].count()"
   ]
  },
  {
   "cell_type": "markdown",
   "metadata": {
    "id": "t_Qx-3NewAnK"
   },
   "source": [
    "En Springfield se reproduce más del doble de canciones que en Shelbyville. \n",
    "Podria deberse a que hay mayor poblacion en Springfield que en Shelbyville pero para corroborar esta hipotesis nos falta informacion demografica de ambas ciudades y para el caso no es relevante "
   ]
  },
  {
   "cell_type": "markdown",
   "metadata": {
    "id": "dzli3w8o_Zcu"
   },
   "source": [
    "Ahora agrupemos los datos por día de la semana y encontremos el número de canciones reproducidas el lunes, miércoles y viernes. Utiliza el mismo método que antes, pero ahora necesitamos una agrupación diferente."
   ]
  },
  {
   "cell_type": "code",
   "execution_count": 21,
   "metadata": {
    "id": "uZMKjiJz_Zcu"
   },
   "outputs": [
    {
     "data": {
      "text/plain": [
       "day\n",
       "Friday       21840\n",
       "Monday       21354\n",
       "Wednesday    18059\n",
       "Name: city, dtype: int64"
      ]
     },
     "execution_count": 21,
     "metadata": {},
     "output_type": "execute_result"
    }
   ],
   "source": [
    "# Calcular las canciones reproducidas en cada uno de los tres días\n",
    "df.groupby(by = 'day')['city'].count()"
   ]
  },
  {
   "cell_type": "markdown",
   "metadata": {
    "id": "cC2tNrlL_Zcu"
   },
   "source": [
    "La diferencia es mayor entre las reproducciones por ciudad que por dia de la semana, aunque los viernes y lunes se reproducen más canciones que el miercoles"
   ]
  },
  {
   "cell_type": "markdown",
   "metadata": {
    "id": "POzs8bGa_Zcu"
   },
   "source": [
    "Crea la función `number_tracks()` para calcular el número de canciones reproducidas en un determinado día **y** ciudad. La función debe aceptar dos parámetros:\n",
    "\n",
    "- `day`: un día de la semana para filtrar. Por ejemplo, `'Monday'` (lunes).\n",
    "- `city`: una ciudad para filtrar. Por ejemplo, `'Springfield'`.\n",
    "\n",
    "Dentro de la función, aplicarás un filtrado consecutivo con indexación lógica.\n",
    "\n",
    "Primero filtra los datos por día y luego filtra la tabla resultante por ciudad.\n",
    "\n",
    "Después de filtrar los datos por dos criterios, cuenta el número de valores de la columna 'user_id' en la tabla resultante. Este recuento representa el número de entradas que estás buscando. Guarda el resultado en una nueva variable y devuélvelo desde la función."
   ]
  },
  {
   "cell_type": "code",
   "execution_count": 22,
   "metadata": {
    "id": "Nz3GdQB1_Zcu"
   },
   "outputs": [],
   "source": [
    "# Declara la función number_tracks() con dos parámetros: day= y city=.\n",
    "def number_tracks(day, city) :\n",
    "    # Almacena las filas del DataFrame donde el valor en la columna 'day' es igual al parámetro day=\n",
    "    day_df = df[df['day'] == day]\n",
    "    #Filtra las filas donde el valor en la columna 'city' es igual al parámetro city=x\n",
    "    city_df = day_df[day_df['city'] == city]\n",
    "    # Extrae la columna 'user_id' de la tabla filtrada y aplica el método count()\n",
    "    df_filtered = city_df['user_id'].count()\n",
    "    # Devolve el número de valores de la columna 'user_id'\n",
    "    return df_filtered"
   ]
  },
  {
   "cell_type": "markdown",
   "metadata": {
    "id": "ytf7xFrFJQ2r"
   },
   "source": [
    "Llama a `number_tracks()` seis veces, cambiando los valores de los parámetros para que recuperes los datos de ambas ciudades para cada uno de los tres días."
   ]
  },
  {
   "cell_type": "code",
   "execution_count": 23,
   "metadata": {
    "id": "rJcRATNQ_Zcu"
   },
   "outputs": [
    {
     "data": {
      "text/plain": [
       "15740"
      ]
     },
     "execution_count": 23,
     "metadata": {},
     "output_type": "execute_result"
    }
   ],
   "source": [
    "# El número de canciones reproducidas en Springfield el lunes\n",
    "mon_spring = number_tracks('Monday', 'Springfield' )\n",
    "mon_spring"
   ]
  },
  {
   "cell_type": "code",
   "execution_count": 24,
   "metadata": {
    "id": "hq_ncZ5T_Zcu"
   },
   "outputs": [],
   "source": [
    "# El número de canciones reproducidas en Shelbyville el lunes\n",
    "mon_shell = number_tracks('Monday', 'Shelbyville' )"
   ]
  },
  {
   "cell_type": "code",
   "execution_count": 25,
   "metadata": {
    "id": "_NTy2VPU_Zcu"
   },
   "outputs": [],
   "source": [
    "# El número de canciones reproducidas en Springfield el miércoles\n",
    "wend_spring = number_tracks('Wednesday', 'Springfield' )"
   ]
  },
  {
   "cell_type": "code",
   "execution_count": 26,
   "metadata": {
    "id": "j2y3TAwo_Zcu"
   },
   "outputs": [],
   "source": [
    "# El número de canciones reproducidas en Shelbyville el miércoles\n",
    "wend_shell = number_tracks('Wednesday', 'Shelbyville' )"
   ]
  },
  {
   "cell_type": "code",
   "execution_count": 27,
   "metadata": {
    "id": "vYDw5u_K_Zcu"
   },
   "outputs": [],
   "source": [
    "# El número de canciones reproducidas en Springfield el viernes\n",
    "fry_spring = number_tracks('Friday', 'Springfield' )"
   ]
  },
  {
   "cell_type": "code",
   "execution_count": 28,
   "metadata": {
    "id": "8_yzFtW3_Zcu"
   },
   "outputs": [],
   "source": [
    "# El número de canciones reproducidas en Shelbyville el viernes\n",
    "fry_shell = number_tracks('Friday', 'Shelbyville' )"
   ]
  },
  {
   "cell_type": "code",
   "execution_count": 29,
   "metadata": {},
   "outputs": [
    {
     "data": {
      "text/html": [
       "<div>\n",
       "<style scoped>\n",
       "    .dataframe tbody tr th:only-of-type {\n",
       "        vertical-align: middle;\n",
       "    }\n",
       "\n",
       "    .dataframe tbody tr th {\n",
       "        vertical-align: top;\n",
       "    }\n",
       "\n",
       "    .dataframe thead th {\n",
       "        text-align: right;\n",
       "    }\n",
       "</style>\n",
       "<table border=\"1\" class=\"dataframe\">\n",
       "  <thead>\n",
       "    <tr style=\"text-align: right;\">\n",
       "      <th></th>\n",
       "      <th>Day</th>\n",
       "      <th>Springfield</th>\n",
       "      <th>Shelbyville</th>\n",
       "    </tr>\n",
       "  </thead>\n",
       "  <tbody>\n",
       "    <tr>\n",
       "      <th>0</th>\n",
       "      <td>Monday</td>\n",
       "      <td>15740</td>\n",
       "      <td>5614</td>\n",
       "    </tr>\n",
       "    <tr>\n",
       "      <th>1</th>\n",
       "      <td>Wendesday</td>\n",
       "      <td>11056</td>\n",
       "      <td>7003</td>\n",
       "    </tr>\n",
       "    <tr>\n",
       "      <th>2</th>\n",
       "      <td>Friday</td>\n",
       "      <td>15945</td>\n",
       "      <td>5895</td>\n",
       "    </tr>\n",
       "  </tbody>\n",
       "</table>\n",
       "</div>"
      ],
      "text/plain": [
       "         Day  Springfield  Shelbyville\n",
       "0     Monday        15740         5614\n",
       "1  Wendesday        11056         7003\n",
       "2     Friday        15945         5895"
      ]
     },
     "execution_count": 29,
     "metadata": {},
     "output_type": "execute_result"
    }
   ],
   "source": [
    "# Crea una tabla con los valores filtrados\n",
    "day_of_week = [['Monday', mon_spring, mon_shell ],\n",
    "               ['Wendesday', wend_spring, wend_shell ],\n",
    "               ['Friday', fry_spring, fry_shell]]\n",
    "col_cities = ['Day','Springfield', 'Shelbyville' ]\n",
    "final_df = pd.DataFrame(data=day_of_week, columns=col_cities)\n",
    "final_df"
   ]
  },
  {
   "cell_type": "markdown",
   "metadata": {
    "id": "-EgPIHYu_Zcu"
   },
   "source": [
    "**Conclusiones**\n",
    "\n",
    "La hipotesis parece ser correcta, ya que hay una clara diferencia entre los datos de Springfiled y Shelbyville. En Springfield más usuarios reproducen musica los dias lunes y viernes, y son  considerablemente menos activos los dias miercoles, mientras que en Shelbyville ocurre lo contrario ya que el miércoles es el día con mas reproducciones en esa ciudad."
   ]
  },
  {
   "cell_type": "markdown",
   "metadata": {
    "id": "p7nFQajCVw5B"
   },
   "source": [
    "[Volver a Contenidos](#back)"
   ]
  },
  {
   "cell_type": "markdown",
   "metadata": {
    "id": "ykKQ0N65_Zcv"
   },
   "source": [
    "# Conclusiones <a id='end'></a>"
   ]
  },
  {
   "cell_type": "markdown",
   "metadata": {
    "id": "tjUwbHb3_Zcv"
   },
   "source": [
    "Springfiled y Shelbyville siempre han sido rivales por lo que es esperable que tengan comportamientos opuestos aunque en ambas ciudades el comportamiento de los usuarios es similar los dias lunes y viernes y muy diferente el miércoles.\n",
    "Podira deducir también que en Shelbyville los usuarios escuchan menos musica, pero podria deberse a que hay menos poblacion en esa ciudad. Por ahora no contamos con informacion demografica de la zona como para llegar a dicha conclusion, aunque supongo que seria útil si queremos comparar el comportamiento de ambas ciudades calculando el porcentaje de la población que usa la aplicacion y saber si la diferencia del monto total de reproducciones por ciudad se debe a una menor poblacion o que a los usuarios no les gusta mucho la aplicación."
   ]
  },
  {
   "cell_type": "markdown",
   "metadata": {
    "id": "azLHu64yOIp7"
   },
   "source": [
    "### Nota\n",
    "En proyectos de investigación reales, la prueba de hipótesis estadística es más precisa y cuantitativa. También ten en cuenta que no siempre se pueden sacar conclusiones sobre una ciudad entera a partir de datos de una sola fuente.\n",
    "\n",
    "Aprenderás más sobre la prueba de hipótesis en el sprint de análisis estadístico de datos."
   ]
  },
  {
   "cell_type": "markdown",
   "metadata": {
    "id": "Ju4AHDSgV1FE"
   },
   "source": [
    "[Volver a Contenidos](#back)"
   ]
  }
 ],
 "metadata": {
  "ExecuteTimeLog": [
   {
    "duration": 570,
    "start_time": "2024-06-10T13:36:53.543Z"
   },
   {
    "duration": 389,
    "start_time": "2024-06-10T13:41:03.172Z"
   },
   {
    "duration": 4,
    "start_time": "2024-06-10T13:45:40.910Z"
   },
   {
    "duration": 43,
    "start_time": "2024-06-10T13:45:44.286Z"
   },
   {
    "duration": 200,
    "start_time": "2024-06-10T13:47:00.058Z"
   },
   {
    "duration": 12,
    "start_time": "2024-06-10T13:48:17.479Z"
   },
   {
    "duration": 11,
    "start_time": "2024-06-10T13:48:34.950Z"
   },
   {
    "duration": 36,
    "start_time": "2024-06-10T13:48:56.296Z"
   },
   {
    "duration": 984,
    "start_time": "2024-06-10T14:18:47.930Z"
   },
   {
    "duration": 85,
    "start_time": "2024-06-10T14:18:57.133Z"
   },
   {
    "duration": 82,
    "start_time": "2024-06-10T14:21:08.913Z"
   },
   {
    "duration": 81,
    "start_time": "2024-06-10T14:21:38.695Z"
   },
   {
    "duration": 77,
    "start_time": "2024-06-10T14:21:45.402Z"
   },
   {
    "duration": 30,
    "start_time": "2024-06-10T14:22:54.368Z"
   },
   {
    "duration": 29,
    "start_time": "2024-06-10T14:23:06.062Z"
   },
   {
    "duration": 11,
    "start_time": "2024-06-10T14:23:32.571Z"
   },
   {
    "duration": 14,
    "start_time": "2024-06-10T14:24:06.299Z"
   },
   {
    "duration": 21,
    "start_time": "2024-06-10T14:24:39.282Z"
   },
   {
    "duration": 15,
    "start_time": "2024-06-10T14:25:24.399Z"
   },
   {
    "duration": 19,
    "start_time": "2024-06-10T14:26:05.915Z"
   },
   {
    "duration": 7,
    "start_time": "2024-06-10T14:27:04.272Z"
   },
   {
    "duration": 18,
    "start_time": "2024-06-10T14:27:08.620Z"
   },
   {
    "duration": 19,
    "start_time": "2024-06-10T14:27:26.751Z"
   },
   {
    "duration": 31,
    "start_time": "2024-06-10T14:27:40.780Z"
   },
   {
    "duration": 24,
    "start_time": "2024-06-10T14:36:27.297Z"
   },
   {
    "duration": 77,
    "start_time": "2024-06-10T14:37:00.687Z"
   },
   {
    "duration": 165,
    "start_time": "2024-06-10T14:40:02.833Z"
   },
   {
    "duration": 206,
    "start_time": "2024-06-10T14:40:17.342Z"
   },
   {
    "duration": 9,
    "start_time": "2024-06-10T14:47:38.860Z"
   },
   {
    "duration": 4,
    "start_time": "2024-06-10T14:47:53.161Z"
   },
   {
    "duration": 24,
    "start_time": "2024-06-10T14:52:51.141Z"
   },
   {
    "duration": 24,
    "start_time": "2024-06-10T14:55:30.681Z"
   },
   {
    "duration": 24,
    "start_time": "2024-06-10T14:55:46.789Z"
   },
   {
    "duration": 26,
    "start_time": "2024-06-10T14:56:04.505Z"
   },
   {
    "duration": 314,
    "start_time": "2024-06-10T20:00:27.547Z"
   },
   {
    "duration": 471,
    "start_time": "2024-06-10T20:00:45.618Z"
   },
   {
    "duration": 191,
    "start_time": "2024-06-10T20:00:47.713Z"
   },
   {
    "duration": 11,
    "start_time": "2024-06-10T20:00:50.349Z"
   },
   {
    "duration": 5,
    "start_time": "2024-06-10T20:01:04.553Z"
   },
   {
    "duration": 67,
    "start_time": "2024-06-10T20:01:09.060Z"
   },
   {
    "duration": 5,
    "start_time": "2024-06-10T20:01:16.918Z"
   },
   {
    "duration": 5,
    "start_time": "2024-06-10T20:04:15.545Z"
   },
   {
    "duration": 6,
    "start_time": "2024-06-10T20:05:50.318Z"
   },
   {
    "duration": 5,
    "start_time": "2024-06-10T20:05:56.925Z"
   },
   {
    "duration": 4,
    "start_time": "2024-06-10T20:06:26.714Z"
   },
   {
    "duration": 471,
    "start_time": "2024-06-10T20:06:55.574Z"
   },
   {
    "duration": 178,
    "start_time": "2024-06-10T20:06:58.334Z"
   },
   {
    "duration": 10,
    "start_time": "2024-06-10T20:07:00.585Z"
   },
   {
    "duration": 4,
    "start_time": "2024-06-10T20:07:14.697Z"
   },
   {
    "duration": 364,
    "start_time": "2024-06-10T20:07:24.389Z"
   },
   {
    "duration": 7,
    "start_time": "2024-06-10T20:07:47.848Z"
   },
   {
    "duration": 8,
    "start_time": "2024-06-10T20:09:01.714Z"
   },
   {
    "duration": 26,
    "start_time": "2024-06-10T20:11:01.123Z"
   },
   {
    "duration": 8,
    "start_time": "2024-06-10T20:11:13.601Z"
   },
   {
    "duration": 812,
    "start_time": "2024-06-10T20:11:18.407Z"
   },
   {
    "duration": 25,
    "start_time": "2024-06-10T20:13:01.962Z"
   },
   {
    "duration": 65,
    "start_time": "2024-06-10T20:14:25.746Z"
   },
   {
    "duration": 489,
    "start_time": "2024-06-10T20:14:47.633Z"
   },
   {
    "duration": 206,
    "start_time": "2024-06-10T20:14:50.066Z"
   },
   {
    "duration": 1129,
    "start_time": "2024-06-10T20:15:08.287Z"
   },
   {
    "duration": 5,
    "start_time": "2024-06-10T20:15:56.965Z"
   },
   {
    "duration": 505,
    "start_time": "2024-06-10T20:16:52.598Z"
   },
   {
    "duration": 102,
    "start_time": "2024-06-10T20:18:16.169Z"
   },
   {
    "duration": 175,
    "start_time": "2024-06-10T20:18:24.650Z"
   },
   {
    "duration": 6,
    "start_time": "2024-06-10T20:19:22.170Z"
   },
   {
    "duration": 98,
    "start_time": "2024-06-10T20:19:42.434Z"
   },
   {
    "duration": 35,
    "start_time": "2024-06-10T20:27:20.596Z"
   },
   {
    "duration": 5,
    "start_time": "2024-06-10T20:29:56.779Z"
   },
   {
    "duration": 6,
    "start_time": "2024-06-10T20:30:40.598Z"
   },
   {
    "duration": 6,
    "start_time": "2024-06-10T20:31:17.938Z"
   },
   {
    "duration": 6,
    "start_time": "2024-06-10T20:32:54.552Z"
   },
   {
    "duration": 11,
    "start_time": "2024-06-10T20:33:47.945Z"
   },
   {
    "duration": 6,
    "start_time": "2024-06-10T20:33:55.740Z"
   },
   {
    "duration": 7,
    "start_time": "2024-06-10T20:40:44.457Z"
   },
   {
    "duration": 7,
    "start_time": "2024-06-10T20:40:58.924Z"
   },
   {
    "duration": 5,
    "start_time": "2024-06-10T20:43:23.164Z"
   },
   {
    "duration": 8,
    "start_time": "2024-06-10T20:43:31.847Z"
   },
   {
    "duration": 4,
    "start_time": "2024-06-10T20:44:23.977Z"
   },
   {
    "duration": 594,
    "start_time": "2024-06-10T20:45:01.534Z"
   },
   {
    "duration": 185,
    "start_time": "2024-06-10T20:45:04.549Z"
   },
   {
    "duration": 5,
    "start_time": "2024-06-10T20:45:21.168Z"
   },
   {
    "duration": 5,
    "start_time": "2024-06-10T20:45:33.507Z"
   },
   {
    "duration": 6,
    "start_time": "2024-06-10T20:45:41.452Z"
   },
   {
    "duration": 6,
    "start_time": "2024-06-10T20:45:49.426Z"
   },
   {
    "duration": 11,
    "start_time": "2024-06-10T20:45:54.738Z"
   },
   {
    "duration": 37,
    "start_time": "2024-06-10T20:46:48.083Z"
   },
   {
    "duration": 7,
    "start_time": "2024-06-10T21:00:58.474Z"
   },
   {
    "duration": 5,
    "start_time": "2024-06-10T21:02:18.103Z"
   },
   {
    "duration": 16,
    "start_time": "2024-06-10T21:04:11.136Z"
   },
   {
    "duration": 25,
    "start_time": "2024-06-10T21:04:53.548Z"
   },
   {
    "duration": 25,
    "start_time": "2024-06-10T21:05:03.729Z"
   },
   {
    "duration": 34,
    "start_time": "2024-06-10T21:05:18.184Z"
   },
   {
    "duration": 82,
    "start_time": "2024-06-10T21:06:04.968Z"
   },
   {
    "duration": 29,
    "start_time": "2024-06-10T21:06:26.089Z"
   },
   {
    "duration": 28,
    "start_time": "2024-06-10T21:06:46.916Z"
   },
   {
    "duration": 6,
    "start_time": "2024-06-10T21:07:01.637Z"
   },
   {
    "duration": 5,
    "start_time": "2024-06-10T21:07:24.519Z"
   },
   {
    "duration": 19,
    "start_time": "2024-06-10T21:07:55.736Z"
   },
   {
    "duration": 33,
    "start_time": "2024-06-10T21:08:32.669Z"
   },
   {
    "duration": 5,
    "start_time": "2024-06-10T21:08:53.271Z"
   },
   {
    "duration": 93,
    "start_time": "2024-06-10T21:11:04.592Z"
   },
   {
    "duration": 75,
    "start_time": "2024-06-10T21:11:41.487Z"
   },
   {
    "duration": 79,
    "start_time": "2024-06-10T21:12:01.226Z"
   },
   {
    "duration": 70,
    "start_time": "2024-06-10T21:12:04.132Z"
   },
   {
    "duration": 15,
    "start_time": "2024-06-10T21:12:58.137Z"
   },
   {
    "duration": 334,
    "start_time": "2024-06-11T15:06:55.222Z"
   },
   {
    "duration": 563,
    "start_time": "2024-06-11T15:07:16.417Z"
   },
   {
    "duration": 299,
    "start_time": "2024-06-11T15:07:18.980Z"
   },
   {
    "duration": 23,
    "start_time": "2024-06-11T15:07:27.868Z"
   },
   {
    "duration": 7,
    "start_time": "2024-06-11T15:07:43.087Z"
   },
   {
    "duration": 6,
    "start_time": "2024-06-11T15:07:50.955Z"
   },
   {
    "duration": 9,
    "start_time": "2024-06-11T15:07:53.848Z"
   },
   {
    "duration": 4,
    "start_time": "2024-06-11T15:07:59.480Z"
   },
   {
    "duration": 6,
    "start_time": "2024-06-11T15:08:02.504Z"
   },
   {
    "duration": 29,
    "start_time": "2024-06-11T15:08:10.152Z"
   },
   {
    "duration": 23,
    "start_time": "2024-06-11T15:08:18.723Z"
   },
   {
    "duration": 28,
    "start_time": "2024-06-11T15:08:30.688Z"
   },
   {
    "duration": 91,
    "start_time": "2024-06-11T15:08:38.505Z"
   },
   {
    "duration": 102,
    "start_time": "2024-06-11T15:08:44.432Z"
   },
   {
    "duration": 91,
    "start_time": "2024-06-11T15:08:49.615Z"
   },
   {
    "duration": 13,
    "start_time": "2024-06-11T15:08:56.438Z"
   },
   {
    "duration": 12,
    "start_time": "2024-06-11T15:09:04.183Z"
   },
   {
    "duration": 8,
    "start_time": "2024-06-11T15:09:29.008Z"
   },
   {
    "duration": 12,
    "start_time": "2024-06-11T15:09:40.668Z"
   },
   {
    "duration": 11,
    "start_time": "2024-06-11T15:10:46.549Z"
   },
   {
    "duration": 13,
    "start_time": "2024-06-11T15:12:18.835Z"
   },
   {
    "duration": 10,
    "start_time": "2024-06-11T15:12:22.052Z"
   },
   {
    "duration": 12,
    "start_time": "2024-06-11T15:12:24.787Z"
   },
   {
    "duration": 66,
    "start_time": "2024-06-11T15:14:19.213Z"
   },
   {
    "duration": 34,
    "start_time": "2024-06-11T15:15:47.701Z"
   },
   {
    "duration": 108,
    "start_time": "2024-06-11T15:16:56.153Z"
   },
   {
    "duration": 93,
    "start_time": "2024-06-11T15:18:19.921Z"
   },
   {
    "duration": 12,
    "start_time": "2024-06-11T15:18:32.785Z"
   },
   {
    "duration": 14,
    "start_time": "2024-06-11T15:20:23.559Z"
   },
   {
    "duration": 9,
    "start_time": "2024-06-11T15:20:45.660Z"
   },
   {
    "duration": 49,
    "start_time": "2024-06-11T15:34:49.588Z"
   },
   {
    "duration": 51,
    "start_time": "2024-06-11T15:35:49.733Z"
   },
   {
    "duration": 11,
    "start_time": "2024-06-11T15:35:54.839Z"
   },
   {
    "duration": 30,
    "start_time": "2024-06-11T15:36:17.520Z"
   },
   {
    "duration": 37,
    "start_time": "2024-06-11T15:36:37.532Z"
   },
   {
    "duration": 349,
    "start_time": "2024-06-11T15:38:28.734Z"
   },
   {
    "duration": 375,
    "start_time": "2024-06-11T15:38:44.348Z"
   },
   {
    "duration": 14,
    "start_time": "2024-06-11T15:39:14.455Z"
   },
   {
    "duration": 38,
    "start_time": "2024-06-11T15:39:43.733Z"
   },
   {
    "duration": 15,
    "start_time": "2024-06-11T15:39:53.611Z"
   },
   {
    "duration": 11,
    "start_time": "2024-06-11T15:42:06.775Z"
   },
   {
    "duration": 107,
    "start_time": "2024-06-11T15:45:22.307Z"
   },
   {
    "duration": 844,
    "start_time": "2024-06-11T15:45:39.849Z"
   },
   {
    "duration": 49,
    "start_time": "2024-06-11T15:46:11.420Z"
   },
   {
    "duration": 184,
    "start_time": "2024-06-11T15:47:15.775Z"
   },
   {
    "duration": 10,
    "start_time": "2024-06-11T15:47:27.704Z"
   },
   {
    "duration": 12,
    "start_time": "2024-06-11T15:47:40.696Z"
   },
   {
    "duration": 29,
    "start_time": "2024-06-11T15:51:19.254Z"
   },
   {
    "duration": 38,
    "start_time": "2024-06-11T15:51:44.736Z"
   },
   {
    "duration": 11,
    "start_time": "2024-06-11T15:51:54.262Z"
   },
   {
    "duration": 24,
    "start_time": "2024-06-11T15:51:56.758Z"
   },
   {
    "duration": 10,
    "start_time": "2024-06-11T15:52:18.764Z"
   },
   {
    "duration": 8,
    "start_time": "2024-06-11T15:52:22.785Z"
   },
   {
    "duration": 12,
    "start_time": "2024-06-11T15:52:32.865Z"
   },
   {
    "duration": 15,
    "start_time": "2024-06-11T15:53:45.288Z"
   },
   {
    "duration": 11,
    "start_time": "2024-06-11T15:53:58.274Z"
   },
   {
    "duration": 35,
    "start_time": "2024-06-11T15:54:08.610Z"
   },
   {
    "duration": 38,
    "start_time": "2024-06-11T15:54:18.767Z"
   },
   {
    "duration": 9,
    "start_time": "2024-06-11T15:54:23.102Z"
   },
   {
    "duration": 10,
    "start_time": "2024-06-11T15:54:46.757Z"
   },
   {
    "duration": 19,
    "start_time": "2024-06-11T15:55:05.011Z"
   },
   {
    "duration": 14,
    "start_time": "2024-06-11T15:56:42.020Z"
   },
   {
    "duration": 14,
    "start_time": "2024-06-11T15:56:55.437Z"
   },
   {
    "duration": 465,
    "start_time": "2024-06-11T15:57:26.390Z"
   },
   {
    "duration": 190,
    "start_time": "2024-06-11T15:57:29.150Z"
   },
   {
    "duration": 23,
    "start_time": "2024-06-11T15:57:34.047Z"
   },
   {
    "duration": 36,
    "start_time": "2024-06-11T15:57:43.130Z"
   },
   {
    "duration": 7,
    "start_time": "2024-06-11T15:57:51.073Z"
   },
   {
    "duration": 5,
    "start_time": "2024-06-11T15:57:55.930Z"
   },
   {
    "duration": 6,
    "start_time": "2024-06-11T15:57:58.440Z"
   },
   {
    "duration": 4,
    "start_time": "2024-06-11T15:58:03.184Z"
   },
   {
    "duration": 7,
    "start_time": "2024-06-11T15:58:06.386Z"
   },
   {
    "duration": 29,
    "start_time": "2024-06-11T15:58:12.830Z"
   },
   {
    "duration": 19,
    "start_time": "2024-06-11T15:58:21.960Z"
   },
   {
    "duration": 30,
    "start_time": "2024-06-11T15:58:24.205Z"
   },
   {
    "duration": 129,
    "start_time": "2024-06-11T15:58:30.941Z"
   },
   {
    "duration": 106,
    "start_time": "2024-06-11T15:58:35.733Z"
   },
   {
    "duration": 83,
    "start_time": "2024-06-11T15:58:39.380Z"
   },
   {
    "duration": 14,
    "start_time": "2024-06-11T15:58:50.290Z"
   },
   {
    "duration": 13,
    "start_time": "2024-06-11T15:59:02.230Z"
   },
   {
    "duration": 20,
    "start_time": "2024-06-11T15:59:18.800Z"
   },
   {
    "duration": 26,
    "start_time": "2024-06-11T16:00:25.348Z"
   },
   {
    "duration": 372,
    "start_time": "2024-06-11T16:01:12.643Z"
   },
   {
    "duration": 20,
    "start_time": "2024-06-11T16:01:26.591Z"
   },
   {
    "duration": 9,
    "start_time": "2024-06-11T16:01:40.244Z"
   },
   {
    "duration": 23,
    "start_time": "2024-06-11T16:01:45.428Z"
   },
   {
    "duration": 6,
    "start_time": "2024-06-11T16:02:23.706Z"
   },
   {
    "duration": 11,
    "start_time": "2024-06-11T16:02:28.412Z"
   },
   {
    "duration": 19,
    "start_time": "2024-06-11T16:03:01.585Z"
   },
   {
    "duration": 20,
    "start_time": "2024-06-11T16:03:09.370Z"
   },
   {
    "duration": 23,
    "start_time": "2024-06-11T16:03:42.641Z"
   },
   {
    "duration": 7,
    "start_time": "2024-06-11T16:29:40.307Z"
   },
   {
    "duration": 45,
    "start_time": "2024-06-11T16:29:48.898Z"
   },
   {
    "duration": 18,
    "start_time": "2024-06-11T16:30:10.349Z"
   },
   {
    "duration": 17,
    "start_time": "2024-06-11T16:35:37.531Z"
   },
   {
    "duration": 475,
    "start_time": "2024-06-12T12:48:38.786Z"
   },
   {
    "duration": 239,
    "start_time": "2024-06-12T12:48:41.526Z"
   },
   {
    "duration": 28,
    "start_time": "2024-06-12T12:48:44.416Z"
   },
   {
    "duration": 35,
    "start_time": "2024-06-12T12:48:50.914Z"
   },
   {
    "duration": 7,
    "start_time": "2024-06-12T12:48:58.672Z"
   },
   {
    "duration": 5,
    "start_time": "2024-06-12T12:49:02.979Z"
   },
   {
    "duration": 6,
    "start_time": "2024-06-12T12:49:09.026Z"
   },
   {
    "duration": 4,
    "start_time": "2024-06-12T12:49:12.868Z"
   },
   {
    "duration": 6,
    "start_time": "2024-06-12T12:49:19.943Z"
   },
   {
    "duration": 7,
    "start_time": "2024-06-12T12:49:22.905Z"
   },
   {
    "duration": 29,
    "start_time": "2024-06-12T12:49:28.093Z"
   },
   {
    "duration": 27,
    "start_time": "2024-06-12T12:49:33.656Z"
   },
   {
    "duration": 31,
    "start_time": "2024-06-12T12:49:36.637Z"
   },
   {
    "duration": 86,
    "start_time": "2024-06-12T12:49:41.333Z"
   },
   {
    "duration": 84,
    "start_time": "2024-06-12T12:49:44.573Z"
   },
   {
    "duration": 84,
    "start_time": "2024-06-12T12:49:48.217Z"
   },
   {
    "duration": 19,
    "start_time": "2024-06-12T12:49:52.460Z"
   },
   {
    "duration": 5,
    "start_time": "2024-06-12T12:50:02.709Z"
   },
   {
    "duration": 11,
    "start_time": "2024-06-12T12:50:05.604Z"
   },
   {
    "duration": 19,
    "start_time": "2024-06-12T12:50:11.538Z"
   },
   {
    "duration": 28,
    "start_time": "2024-06-12T12:50:33.486Z"
   },
   {
    "duration": 15,
    "start_time": "2024-06-12T12:50:36.984Z"
   },
   {
    "duration": 4,
    "start_time": "2024-06-12T13:21:49.784Z"
   },
   {
    "duration": 341,
    "start_time": "2024-06-12T13:36:58.089Z"
   },
   {
    "duration": 5,
    "start_time": "2024-06-12T13:37:01.191Z"
   },
   {
    "duration": 21,
    "start_time": "2024-06-12T13:37:03.663Z"
   },
   {
    "duration": 22,
    "start_time": "2024-06-12T13:37:07.540Z"
   },
   {
    "duration": 23,
    "start_time": "2024-06-12T13:37:28.461Z"
   },
   {
    "duration": 22,
    "start_time": "2024-06-12T13:37:46.788Z"
   },
   {
    "duration": 22,
    "start_time": "2024-06-12T13:38:26.925Z"
   },
   {
    "duration": 20,
    "start_time": "2024-06-12T13:41:00.242Z"
   },
   {
    "duration": 24,
    "start_time": "2024-06-12T13:41:37.680Z"
   },
   {
    "duration": 21,
    "start_time": "2024-06-12T13:42:11.155Z"
   },
   {
    "duration": 28,
    "start_time": "2024-06-12T13:46:39.793Z"
   },
   {
    "duration": 19,
    "start_time": "2024-06-12T13:47:02.937Z"
   },
   {
    "duration": 20,
    "start_time": "2024-06-12T13:47:12.629Z"
   },
   {
    "duration": 23,
    "start_time": "2024-06-12T13:47:55.356Z"
   },
   {
    "duration": 36,
    "start_time": "2024-06-12T13:48:26.495Z"
   },
   {
    "duration": 21,
    "start_time": "2024-06-12T13:50:24.882Z"
   },
   {
    "duration": 21,
    "start_time": "2024-06-12T13:51:08.891Z"
   },
   {
    "duration": 26,
    "start_time": "2024-06-12T13:52:03.577Z"
   },
   {
    "duration": 28,
    "start_time": "2024-06-12T13:52:20.677Z"
   },
   {
    "duration": 24,
    "start_time": "2024-06-12T13:52:37.389Z"
   },
   {
    "duration": 23,
    "start_time": "2024-06-12T13:53:53.290Z"
   },
   {
    "duration": 25,
    "start_time": "2024-06-12T13:54:59.563Z"
   },
   {
    "duration": 24,
    "start_time": "2024-06-12T13:58:18.127Z"
   },
   {
    "duration": 21,
    "start_time": "2024-06-12T13:58:21.776Z"
   },
   {
    "duration": 24,
    "start_time": "2024-06-12T13:58:47.024Z"
   },
   {
    "duration": 23,
    "start_time": "2024-06-12T14:07:55.708Z"
   },
   {
    "duration": 629,
    "start_time": "2024-06-12T14:10:43.346Z"
   },
   {
    "duration": 110,
    "start_time": "2024-06-12T14:11:32.060Z"
   },
   {
    "duration": 6,
    "start_time": "2024-06-12T14:12:23.250Z"
   },
   {
    "duration": 13,
    "start_time": "2024-06-12T14:12:32.004Z"
   },
   {
    "duration": 24,
    "start_time": "2024-06-12T14:30:56.242Z"
   },
   {
    "duration": 15,
    "start_time": "2024-06-12T14:31:08.762Z"
   },
   {
    "duration": 312,
    "start_time": "2024-06-12T14:58:12.445Z"
   },
   {
    "duration": 414,
    "start_time": "2024-06-12T14:58:34.486Z"
   },
   {
    "duration": 166,
    "start_time": "2024-06-12T14:58:36.817Z"
   },
   {
    "duration": 26,
    "start_time": "2024-06-12T14:58:41.012Z"
   },
   {
    "duration": 34,
    "start_time": "2024-06-12T14:58:45.616Z"
   },
   {
    "duration": 6,
    "start_time": "2024-06-12T14:58:55.809Z"
   },
   {
    "duration": 5,
    "start_time": "2024-06-12T14:59:05.850Z"
   },
   {
    "duration": 5,
    "start_time": "2024-06-12T14:59:09.231Z"
   },
   {
    "duration": 5,
    "start_time": "2024-06-12T14:59:19.916Z"
   },
   {
    "duration": 584,
    "start_time": "2024-06-12T14:59:37.853Z"
   },
   {
    "duration": 262,
    "start_time": "2024-06-12T14:59:40.235Z"
   },
   {
    "duration": 40,
    "start_time": "2024-06-12T14:59:42.734Z"
   },
   {
    "duration": 74,
    "start_time": "2024-06-12T14:59:45.996Z"
   },
   {
    "duration": 6,
    "start_time": "2024-06-12T14:59:55.319Z"
   },
   {
    "duration": 5,
    "start_time": "2024-06-12T14:59:59.844Z"
   },
   {
    "duration": 4,
    "start_time": "2024-06-12T15:00:02.402Z"
   },
   {
    "duration": 5,
    "start_time": "2024-06-12T15:00:05.680Z"
   },
   {
    "duration": 7,
    "start_time": "2024-06-12T15:00:08.564Z"
   },
   {
    "duration": 28,
    "start_time": "2024-06-12T15:00:12.562Z"
   },
   {
    "duration": 20,
    "start_time": "2024-06-12T15:00:17.782Z"
   },
   {
    "duration": 35,
    "start_time": "2024-06-12T15:00:20.214Z"
   },
   {
    "duration": 91,
    "start_time": "2024-06-12T15:00:23.735Z"
   },
   {
    "duration": 121,
    "start_time": "2024-06-12T15:00:26.635Z"
   },
   {
    "duration": 96,
    "start_time": "2024-06-12T15:00:29.163Z"
   },
   {
    "duration": 18,
    "start_time": "2024-06-12T15:00:32.060Z"
   },
   {
    "duration": 5,
    "start_time": "2024-06-12T15:00:35.183Z"
   },
   {
    "duration": 11,
    "start_time": "2024-06-12T15:00:37.598Z"
   },
   {
    "duration": 18,
    "start_time": "2024-06-12T15:00:42.358Z"
   },
   {
    "duration": 15,
    "start_time": "2024-06-12T15:00:57.430Z"
   },
   {
    "duration": 16,
    "start_time": "2024-06-12T15:01:05.141Z"
   },
   {
    "duration": 6,
    "start_time": "2024-06-12T15:01:26.193Z"
   },
   {
    "duration": 27,
    "start_time": "2024-06-12T15:01:29.385Z"
   },
   {
    "duration": 20,
    "start_time": "2024-06-12T15:01:30.822Z"
   },
   {
    "duration": 33,
    "start_time": "2024-06-12T15:01:40.719Z"
   },
   {
    "duration": 22,
    "start_time": "2024-06-12T15:01:42.733Z"
   },
   {
    "duration": 24,
    "start_time": "2024-06-12T15:01:44.524Z"
   },
   {
    "duration": 21,
    "start_time": "2024-06-12T15:01:47.625Z"
   },
   {
    "duration": 12,
    "start_time": "2024-06-12T15:01:52.439Z"
   },
   {
    "duration": 537,
    "start_time": "2024-06-12T23:56:21.002Z"
   },
   {
    "duration": 184,
    "start_time": "2024-06-12T23:56:21.543Z"
   },
   {
    "duration": 24,
    "start_time": "2024-06-12T23:56:21.730Z"
   },
   {
    "duration": 35,
    "start_time": "2024-06-12T23:56:21.758Z"
   },
   {
    "duration": 6,
    "start_time": "2024-06-12T23:56:21.825Z"
   },
   {
    "duration": 4,
    "start_time": "2024-06-12T23:56:21.835Z"
   },
   {
    "duration": 5,
    "start_time": "2024-06-12T23:56:21.843Z"
   },
   {
    "duration": 6,
    "start_time": "2024-06-12T23:56:21.852Z"
   },
   {
    "duration": 6,
    "start_time": "2024-06-12T23:56:21.862Z"
   },
   {
    "duration": 28,
    "start_time": "2024-06-12T23:56:21.925Z"
   },
   {
    "duration": 18,
    "start_time": "2024-06-12T23:56:21.957Z"
   },
   {
    "duration": 57,
    "start_time": "2024-06-12T23:56:21.978Z"
   },
   {
    "duration": 102,
    "start_time": "2024-06-12T23:56:22.038Z"
   },
   {
    "duration": 105,
    "start_time": "2024-06-12T23:56:22.144Z"
   },
   {
    "duration": 91,
    "start_time": "2024-06-12T23:56:22.252Z"
   },
   {
    "duration": 19,
    "start_time": "2024-06-12T23:56:22.346Z"
   },
   {
    "duration": 7,
    "start_time": "2024-06-12T23:56:22.368Z"
   },
   {
    "duration": 47,
    "start_time": "2024-06-12T23:56:22.379Z"
   },
   {
    "duration": 20,
    "start_time": "2024-06-12T23:56:22.430Z"
   },
   {
    "duration": 16,
    "start_time": "2024-06-12T23:56:22.453Z"
   },
   {
    "duration": 54,
    "start_time": "2024-06-12T23:56:22.472Z"
   },
   {
    "duration": 6,
    "start_time": "2024-06-12T23:56:22.530Z"
   },
   {
    "duration": 32,
    "start_time": "2024-06-12T23:56:22.539Z"
   },
   {
    "duration": 52,
    "start_time": "2024-06-12T23:56:22.574Z"
   },
   {
    "duration": 22,
    "start_time": "2024-06-12T23:56:22.630Z"
   },
   {
    "duration": 20,
    "start_time": "2024-06-12T23:56:22.655Z"
   },
   {
    "duration": 50,
    "start_time": "2024-06-12T23:56:22.677Z"
   },
   {
    "duration": 19,
    "start_time": "2024-06-12T23:56:22.734Z"
   },
   {
    "duration": 13,
    "start_time": "2024-06-12T23:56:22.756Z"
   },
   {
    "duration": 845,
    "start_time": "2024-06-13T15:07:09.011Z"
   },
   {
    "duration": 252,
    "start_time": "2024-06-13T15:07:09.861Z"
   },
   {
    "duration": 22,
    "start_time": "2024-06-13T15:07:10.116Z"
   },
   {
    "duration": 36,
    "start_time": "2024-06-13T15:07:10.141Z"
   },
   {
    "duration": 35,
    "start_time": "2024-06-13T15:07:10.182Z"
   },
   {
    "duration": 5,
    "start_time": "2024-06-13T15:07:10.220Z"
   },
   {
    "duration": 5,
    "start_time": "2024-06-13T15:07:10.228Z"
   },
   {
    "duration": 5,
    "start_time": "2024-06-13T15:07:10.236Z"
   },
   {
    "duration": 6,
    "start_time": "2024-06-13T15:07:10.245Z"
   },
   {
    "duration": 85,
    "start_time": "2024-06-13T15:07:10.254Z"
   },
   {
    "duration": 26,
    "start_time": "2024-06-13T15:07:10.343Z"
   },
   {
    "duration": 58,
    "start_time": "2024-06-13T15:07:10.372Z"
   },
   {
    "duration": 97,
    "start_time": "2024-06-13T15:07:10.434Z"
   },
   {
    "duration": 96,
    "start_time": "2024-06-13T15:07:10.537Z"
   },
   {
    "duration": 81,
    "start_time": "2024-06-13T15:07:10.637Z"
   },
   {
    "duration": 21,
    "start_time": "2024-06-13T15:07:10.720Z"
   },
   {
    "duration": 6,
    "start_time": "2024-06-13T15:07:10.744Z"
   },
   {
    "duration": 10,
    "start_time": "2024-06-13T15:07:10.753Z"
   },
   {
    "duration": 61,
    "start_time": "2024-06-13T15:07:10.767Z"
   },
   {
    "duration": 18,
    "start_time": "2024-06-13T15:07:10.830Z"
   },
   {
    "duration": 16,
    "start_time": "2024-06-13T15:07:10.851Z"
   },
   {
    "duration": 43,
    "start_time": "2024-06-13T15:07:10.869Z"
   },
   {
    "duration": 28,
    "start_time": "2024-06-13T15:07:10.916Z"
   },
   {
    "duration": 27,
    "start_time": "2024-06-13T15:07:10.947Z"
   },
   {
    "duration": 46,
    "start_time": "2024-06-13T15:07:10.977Z"
   },
   {
    "duration": 17,
    "start_time": "2024-06-13T15:07:11.026Z"
   },
   {
    "duration": 23,
    "start_time": "2024-06-13T15:07:11.046Z"
   },
   {
    "duration": 50,
    "start_time": "2024-06-13T15:07:11.071Z"
   },
   {
    "duration": 12,
    "start_time": "2024-06-13T15:07:11.123Z"
   },
   {
    "duration": 461,
    "start_time": "2024-06-14T06:52:31.750Z"
   },
   {
    "duration": 214,
    "start_time": "2024-06-14T06:52:34.486Z"
   },
   {
    "duration": 21,
    "start_time": "2024-06-14T06:52:41.430Z"
   },
   {
    "duration": 383,
    "start_time": "2024-06-14T06:52:50.373Z"
   },
   {
    "duration": 152,
    "start_time": "2024-06-14T06:52:59.000Z"
   },
   {
    "duration": 168,
    "start_time": "2024-06-14T06:53:51.118Z"
   },
   {
    "duration": 165,
    "start_time": "2024-06-14T06:54:12.141Z"
   },
   {
    "duration": 38,
    "start_time": "2024-06-14T06:58:18.990Z"
   },
   {
    "duration": 35,
    "start_time": "2024-06-14T06:59:02.170Z"
   },
   {
    "duration": 25,
    "start_time": "2024-06-14T06:59:38.790Z"
   },
   {
    "duration": 17,
    "start_time": "2024-06-14T06:59:54.276Z"
   },
   {
    "duration": 17,
    "start_time": "2024-06-14T07:01:14.683Z"
   },
   {
    "duration": 18,
    "start_time": "2024-06-14T07:02:09.704Z"
   },
   {
    "duration": 26,
    "start_time": "2024-06-14T07:02:38.120Z"
   },
   {
    "duration": 26,
    "start_time": "2024-06-14T07:05:51.642Z"
   },
   {
    "duration": 30,
    "start_time": "2024-06-14T07:06:11.268Z"
   },
   {
    "duration": 27,
    "start_time": "2024-06-14T07:08:17.631Z"
   },
   {
    "duration": 18,
    "start_time": "2024-06-14T07:10:48.147Z"
   },
   {
    "duration": 318,
    "start_time": "2024-06-14T16:37:17.271Z"
   },
   {
    "duration": 24,
    "start_time": "2024-06-14T16:37:35.541Z"
   },
   {
    "duration": 428,
    "start_time": "2024-06-14T16:37:53.268Z"
   },
   {
    "duration": 440,
    "start_time": "2024-06-14T16:38:10.053Z"
   },
   {
    "duration": 186,
    "start_time": "2024-06-14T16:38:12.429Z"
   },
   {
    "duration": 23,
    "start_time": "2024-06-14T16:38:17.919Z"
   },
   {
    "duration": 192,
    "start_time": "2024-06-14T16:38:38.487Z"
   },
   {
    "duration": 6,
    "start_time": "2024-06-14T16:38:46.419Z"
   },
   {
    "duration": 5,
    "start_time": "2024-06-14T16:38:51.193Z"
   },
   {
    "duration": 5,
    "start_time": "2024-06-14T16:38:53.271Z"
   },
   {
    "duration": 6,
    "start_time": "2024-06-14T16:38:58.397Z"
   },
   {
    "duration": 29,
    "start_time": "2024-06-14T16:39:03.062Z"
   },
   {
    "duration": 18,
    "start_time": "2024-06-14T16:39:09.227Z"
   },
   {
    "duration": 27,
    "start_time": "2024-06-14T16:39:11.438Z"
   },
   {
    "duration": 86,
    "start_time": "2024-06-14T16:39:17.856Z"
   },
   {
    "duration": 86,
    "start_time": "2024-06-14T16:39:20.343Z"
   },
   {
    "duration": 72,
    "start_time": "2024-06-14T16:39:24.315Z"
   },
   {
    "duration": 338,
    "start_time": "2024-06-14T16:39:28.477Z"
   },
   {
    "duration": 20,
    "start_time": "2024-06-14T16:41:49.253Z"
   },
   {
    "duration": 20,
    "start_time": "2024-06-14T16:42:06.005Z"
   }
  ],
  "colab": {
   "collapsed_sections": [
    "E0vqbgi9ay0H",
    "VUC88oWjTJw2"
   ],
   "provenance": []
  },
  "kernelspec": {
   "display_name": "Python 3 (ipykernel)",
   "language": "python",
   "name": "python3"
  },
  "language_info": {
   "codemirror_mode": {
    "name": "ipython",
    "version": 3
   },
   "file_extension": ".py",
   "mimetype": "text/x-python",
   "name": "python",
   "nbconvert_exporter": "python",
   "pygments_lexer": "ipython3",
   "version": "3.9.19"
  },
  "toc": {
   "base_numbering": 1,
   "nav_menu": {},
   "number_sections": true,
   "sideBar": true,
   "skip_h1_title": true,
   "title_cell": "Table of Contents",
   "title_sidebar": "Contents",
   "toc_cell": false,
   "toc_position": {},
   "toc_section_display": true,
   "toc_window_display": false
  }
 },
 "nbformat": 4,
 "nbformat_minor": 1
}
